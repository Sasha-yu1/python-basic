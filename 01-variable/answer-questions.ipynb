{
 "cells": [
  {
   "cell_type": "markdown",
   "metadata": {},
   "source": [
    "## 打招呼机器人\n",
    "* 提示用户输入姓名\n",
    "* 然后输出 Hi + 姓名"
   ]
  },
  {
   "cell_type": "code",
   "execution_count": 1,
   "metadata": {
    "ExecuteTime": {
     "end_time": "2020-07-13T08:09:58.056445Z",
     "start_time": "2020-07-13T08:09:53.359605Z"
    }
   },
   "outputs": [
    {
     "name": "stdout",
     "output_type": "stream",
     "text": [
      "请输入你的姓名：Peter\n",
      "Hi Peter!\n"
     ]
    }
   ],
   "source": [
    "name = input(\"请输入你的姓名：\")\n",
    "print(\"Hi \" + name + \"!\")"
   ]
  },
  {
   "cell_type": "markdown",
   "metadata": {
    "ExecuteTime": {
     "end_time": "2020-07-13T08:16:48.471922Z",
     "start_time": "2020-07-13T08:16:48.467896Z"
    }
   },
   "source": [
    "## 邮件机器人\n",
    "* 假设计你是要给自动给客户发邮件的运营人员\n",
    "* 提示运营人员输入姓名 \n",
    "* 提示运营人输入购买的商品 \n",
    "* 输出邮件格式如下：\n",
    "\n",
    "Dear [用户姓名]:\n",
    "    \n",
    "    Your purchased product : [产品名] is delivered!\n",
    "    \n",
    "    Thanks for your choosing!\n",
    "    \n",
    "    "
   ]
  },
  {
   "cell_type": "code",
   "execution_count": 9,
   "metadata": {
    "ExecuteTime": {
     "end_time": "2020-07-13T08:47:49.423218Z",
     "start_time": "2020-07-13T08:47:42.947106Z"
    }
   },
   "outputs": [
    {
     "name": "stdout",
     "output_type": "stream",
     "text": [
      "请输入客户姓名:Peter\n",
      "请输入商品名:AirPods\n",
      "\n",
      "Dear Peter:\n",
      "\n",
      "Your purchased product : AirPods is delivered!\n",
      "\n",
      "Thanks for your choosing!\n",
      "\n"
     ]
    }
   ],
   "source": [
    "email_template = \"\"\"\n",
    "Dear %s:\n",
    "\n",
    "Your purchased product : %s is delivered!\n",
    "\n",
    "Thanks for your choosing!\n",
    "\"\"\"\n",
    "name = input(\"请输入客户姓名:\")\n",
    "product = input(\"请输入商品名:\")\n",
    "\n",
    "email_body = email_template % (name,product)\n",
    "print(email_body)"
   ]
  },
  {
   "cell_type": "markdown",
   "metadata": {},
   "source": [
    "## 截取字符串\n",
    "从 \"You Rise Me Up\" 中截取 Rise"
   ]
  },
  {
   "cell_type": "code",
   "execution_count": 6,
   "metadata": {
    "ExecuteTime": {
     "end_time": "2020-07-13T08:40:38.975750Z",
     "start_time": "2020-07-13T08:40:38.972732Z"
    }
   },
   "outputs": [
    {
     "name": "stdout",
     "output_type": "stream",
     "text": [
      "Rise\n"
     ]
    }
   ],
   "source": [
    "title = \"You Rise Me up\"\n",
    "print(title[4:8])"
   ]
  },
  {
   "cell_type": "markdown",
   "metadata": {},
   "source": [
    "## 字符串大小写转换\n",
    "将 \"Python Basic\" 转成小写"
   ]
  },
  {
   "cell_type": "code",
   "execution_count": 7,
   "metadata": {
    "ExecuteTime": {
     "end_time": "2020-07-13T08:41:14.420990Z",
     "start_time": "2020-07-13T08:41:14.417530Z"
    }
   },
   "outputs": [
    {
     "name": "stdout",
     "output_type": "stream",
     "text": [
      "python basic\n"
     ]
    }
   ],
   "source": [
    "title = \"Python Basic\"\n",
    "print(title.lower())"
   ]
  },
  {
   "cell_type": "markdown",
   "metadata": {},
   "source": [
    "## 数值计算\n",
    "* 计算 1000 乘以 2000，再减 1000000\n",
    "* 打印出结果"
   ]
  },
  {
   "cell_type": "code",
   "execution_count": 10,
   "metadata": {
    "ExecuteTime": {
     "end_time": "2020-07-13T08:58:50.891608Z",
     "start_time": "2020-07-13T08:58:50.888118Z"
    }
   },
   "outputs": [
    {
     "name": "stdout",
     "output_type": "stream",
     "text": [
      "1000000\n"
     ]
    }
   ],
   "source": [
    "a = 1000\n",
    "b = 2000\n",
    "c = a * b\n",
    "c = c - 1000000\n",
    "print(c)"
   ]
  },
  {
   "cell_type": "markdown",
   "metadata": {
    "ExecuteTime": {
     "end_time": "2020-07-13T09:00:17.331548Z",
     "start_time": "2020-07-13T09:00:17.328583Z"
    }
   },
   "source": [
    "## 变量类型 (附加题，不考)\n",
    "* 猜一下下面两行代码的执行结果：\n",
    "* print(type(100))\n",
    "* print(type(\"Hello\"))"
   ]
  },
  {
   "cell_type": "code",
   "execution_count": 13,
   "metadata": {
    "ExecuteTime": {
     "end_time": "2020-07-13T09:00:34.525228Z",
     "start_time": "2020-07-13T09:00:34.522194Z"
    }
   },
   "outputs": [
    {
     "name": "stdout",
     "output_type": "stream",
     "text": [
      "<class 'int'>\n",
      "<class 'str'>\n"
     ]
    }
   ],
   "source": [
    "print(type(100))\n",
    "print(type(\"Hello\"))"
   ]
  },
  {
   "cell_type": "markdown",
   "metadata": {},
   "source": [
    "## Python 开发规范\n",
    "\n",
    "就像写邮件需要注意格式一样，写代码也需要注意格式和命名：\n",
    "\n",
    "https://blog.csdn.net/xufive/article/details/84957425\n",
    "\n",
    "备注：如果你认为你是 Top 学员就可以看，不强制！！"
   ]
  }
 ],
 "metadata": {
  "kernelspec": {
   "display_name": "Python 3",
   "language": "python",
   "name": "python3"
  },
  "language_info": {
   "codemirror_mode": {
    "name": "ipython",
    "version": 3
   },
   "file_extension": ".py",
   "mimetype": "text/x-python",
   "name": "python",
   "nbconvert_exporter": "python",
   "pygments_lexer": "ipython3",
   "version": "3.7.6"
  },
  "toc": {
   "base_numbering": 1,
   "nav_menu": {},
   "number_sections": true,
   "sideBar": true,
   "skip_h1_title": false,
   "title_cell": "Table of Contents",
   "title_sidebar": "Contents",
   "toc_cell": false,
   "toc_position": {},
   "toc_section_display": true,
   "toc_window_display": false
  },
  "varInspector": {
   "cols": {
    "lenName": 16,
    "lenType": 16,
    "lenVar": 40
   },
   "kernels_config": {
    "python": {
     "delete_cmd_postfix": "",
     "delete_cmd_prefix": "del ",
     "library": "var_list.py",
     "varRefreshCmd": "print(var_dic_list())"
    },
    "r": {
     "delete_cmd_postfix": ") ",
     "delete_cmd_prefix": "rm(",
     "library": "var_list.r",
     "varRefreshCmd": "cat(var_dic_list()) "
    }
   },
   "types_to_exclude": [
    "module",
    "function",
    "builtin_function_or_method",
    "instance",
    "_Feature"
   ],
   "window_display": false
  }
 },
 "nbformat": 4,
 "nbformat_minor": 4
}
